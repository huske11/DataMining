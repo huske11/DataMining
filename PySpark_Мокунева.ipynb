{
  "nbformat": 4,
  "nbformat_minor": 0,
  "metadata": {
    "colab": {
      "provenance": [],
      "include_colab_link": true
    },
    "kernelspec": {
      "name": "python3",
      "display_name": "Python 3"
    },
    "language_info": {
      "name": "python"
    }
  },
  "cells": [
    {
      "cell_type": "markdown",
      "metadata": {
        "id": "view-in-github",
        "colab_type": "text"
      },
      "source": [
        "<a href=\"https://colab.research.google.com/github/huske11/DataMining/blob/main/PySpark_%D0%9C%D0%BE%D0%BA%D1%83%D0%BD%D0%B5%D0%B2%D0%B0.ipynb\" target=\"_parent\"><img src=\"https://colab.research.google.com/assets/colab-badge.svg\" alt=\"Open In Colab\"/></a>"
      ]
    },
    {
      "cell_type": "code",
      "source": [
        "!pip install pyspark\n",
        "\n",
        "from pyspark.sql import SparkSession\n",
        "from pyspark.sql.functions import avg, col, count, when\n",
        "\n",
        "# Создаем SparkSession\n",
        "spark = SparkSession.builder.appName(\"Depression Student Dataset\").getOrCreate()\n",
        "\n",
        "# Загружаем датасет в DataFrame PySpark\n",
        "file_path = \"/content/Depression Student Dataset.csv\"\n",
        "raw_data = spark.read.csv(file_path, header=True, inferSchema=True)\n",
        "\n",
        "# Проверяем структуру загруженного DataFrame\n",
        "raw_data.printSchema()\n",
        "\n",
        "# 1. Сводная информация: количество студентов с депрессией и без\n",
        "summary_depression = raw_data.groupBy(\"Depression\").count()\n",
        "summary_depression.show()\n",
        "\n",
        "# 2. Средняя академическая нагрузка и удовлетворенность обучением для каждой группы депрессии\n",
        "avg_pressure_satisfaction = raw_data.groupBy(\"Depression\").agg(\n",
        "    avg(col(\"Academic Pressure\")).alias(\"Average Academic Pressure\"),\n",
        "    avg(col(\"Study Satisfaction\")).alias(\"Average Study Satisfaction\")\n",
        ")\n",
        "avg_pressure_satisfaction.show()\n",
        "\n",
        "# 3. Связь между продолжительностью сна и депрессией\n",
        "sleep_depression = raw_data.groupBy(\"Sleep Duration\", \"Depression\").count().orderBy(\"Sleep Duration\")\n",
        "sleep_depression.show()\n",
        "\n",
        "# 4. Распределение сложностей с финансами среди студентов\n",
        "financial_stress_distribution = raw_data.groupBy(\"Financial Stress\").count().orderBy(\"Financial Stress\")\n",
        "financial_stress_distribution.show()\n",
        "\n",
        "# Сохранение результатов анализа в файлы\n",
        "summary_depression.write.csv(\"summary_depression.csv\", header=True)\n",
        "avg_pressure_satisfaction.write.csv(\"avg_pressure_satisfaction.csv\", header=True)\n",
        "sleep_depression.write.csv(\"sleep_depression.csv\", header=True)\n",
        "financial_stress_distribution.write.csv(\"financial_stress_distribution.csv\", header=True)\n",
        "\n",
        "print(\"Анализ завершен, результаты сохранены в CSV-файлы.\")"
      ],
      "metadata": {
        "colab": {
          "base_uri": "https://localhost:8080/"
        },
        "id": "JMILHPlCxJSk",
        "outputId": "bdf01cba-98de-4ee2-d0d3-e6333984bade"
      },
      "execution_count": 1,
      "outputs": [
        {
          "output_type": "stream",
          "name": "stdout",
          "text": [
            "Requirement already satisfied: pyspark in /usr/local/lib/python3.11/dist-packages (3.5.5)\n",
            "Requirement already satisfied: py4j==0.10.9.7 in /usr/local/lib/python3.11/dist-packages (from pyspark) (0.10.9.7)\n",
            "root\n",
            " |-- Gender: string (nullable = true)\n",
            " |-- Age: integer (nullable = true)\n",
            " |-- Academic Pressure: double (nullable = true)\n",
            " |-- Study Satisfaction: double (nullable = true)\n",
            " |-- Sleep Duration: string (nullable = true)\n",
            " |-- Dietary Habits: string (nullable = true)\n",
            " |-- Have you ever had suicidal thoughts ?: string (nullable = true)\n",
            " |-- Study Hours: integer (nullable = true)\n",
            " |-- Financial Stress: integer (nullable = true)\n",
            " |-- Family History of Mental Illness: string (nullable = true)\n",
            " |-- Depression: string (nullable = true)\n",
            "\n",
            "+----------+-----+\n",
            "|Depression|count|\n",
            "+----------+-----+\n",
            "|        No|  250|\n",
            "|       Yes|  252|\n",
            "+----------+-----+\n",
            "\n",
            "+----------+-------------------------+--------------------------+\n",
            "|Depression|Average Academic Pressure|Average Study Satisfaction|\n",
            "+----------+-------------------------+--------------------------+\n",
            "|        No|                     2.34|                      3.48|\n",
            "|       Yes|       3.6626984126984126|        2.6746031746031744|\n",
            "+----------+-------------------------+--------------------------+\n",
            "\n",
            "+-----------------+----------+-----+\n",
            "|   Sleep Duration|Depression|count|\n",
            "+-----------------+----------+-----+\n",
            "|        5-6 hours|       Yes|   64|\n",
            "|        5-6 hours|        No|   59|\n",
            "|        7-8 hours|       Yes|   67|\n",
            "|        7-8 hours|        No|   61|\n",
            "|Less than 5 hours|        No|   59|\n",
            "|Less than 5 hours|       Yes|   64|\n",
            "|More than 8 hours|       Yes|   57|\n",
            "|More than 8 hours|        No|   71|\n",
            "+-----------------+----------+-----+\n",
            "\n",
            "+----------------+-----+\n",
            "|Financial Stress|count|\n",
            "+----------------+-----+\n",
            "|               1|  110|\n",
            "|               2|  102|\n",
            "|               3|  100|\n",
            "|               4|   94|\n",
            "|               5|   96|\n",
            "+----------------+-----+\n",
            "\n",
            "Анализ завершен, результаты сохранены в CSV-файлы.\n"
          ]
        }
      ]
    }
  ]
}